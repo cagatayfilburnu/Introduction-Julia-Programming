{
 "cells": [
  {
   "cell_type": "markdown",
   "id": "df16c193-74d7-4ab6-a0e7-dc2a4486b909",
   "metadata": {},
   "source": [
    "## Introduction to Julia Programming"
   ]
  },
  {
   "cell_type": "markdown",
   "id": "7e1bdf83-1b18-4ddb-ad4f-c96ebed57524",
   "metadata": {},
   "source": [
    "<p> Julia is a high-level, compiled, dynamic programming language especially, it provides C/C++ speed to users while remaining as easy to use as Python. The language was created in 2012 and it is based on Python and other systems, but has additional features that make it unique.\n",
    "\n",
    "<p>There are some Julia's features; </p>\n",
    "<ul>\n",
    "<li>Free and open source\n",
    "<li>Made for machine learning and statistic\n",
    "<li>User friendly like Python</li>\n",
    "<li>Speed and performance<ol>\n",
    "\n",
    "</ol>\n",
    "</li>\n",
    "</ul>\n",
    "</li>\n",
    "\n",
    "<hr>\n",
    "<p>In this repository, we will look at some basic examples of Julia programming and cover some important concepts in the language as well. </p>"
   ]
  },
  {
   "cell_type": "markdown",
   "id": "92852a7b-c616-44fb-8c77-2e66b66ff30a",
   "metadata": {},
   "source": [
    "### Printing and basic computions in Julia"
   ]
  },
  {
   "cell_type": "code",
   "execution_count": 2,
   "id": "f677f62a-2d3c-42f7-bd7e-6812ac10ce45",
   "metadata": {},
   "outputs": [
    {
     "name": "stdout",
     "output_type": "stream",
     "text": [
      "5\n",
      "8.1\n",
      "Hello from Julia!\n"
     ]
    }
   ],
   "source": [
    "# In Julia, we use println() funciton for printing to terminal. \n",
    "# For example:\n",
    "\n",
    "println(5)\n",
    "println(8.1)\n",
    "println(\"Hello from Julia!\")"
   ]
  },
  {
   "cell_type": "code",
   "execution_count": 3,
   "id": "c54b68ca-2d18-435e-92f7-e309dedd806b",
   "metadata": {},
   "outputs": [
    {
     "name": "stdout",
     "output_type": "stream",
     "text": [
      "8\n",
      "4.8\n",
      "16\n"
     ]
    }
   ],
   "source": [
    "# Also, we can some computions in println() function.\n",
    "\n",
    "println(5+3)\n",
    "println(8-3.2)\n",
    "println(2^4)"
   ]
  },
  {
   "cell_type": "code",
   "execution_count": 23,
   "id": "baff6532-b1af-48c2-b131-4d43d6d2236c",
   "metadata": {},
   "outputs": [
    {
     "data": {
      "text/plain": [
       "6"
      ]
     },
     "execution_count": 23,
     "metadata": {},
     "output_type": "execute_result"
    }
   ],
   "source": [
    "# Now, let's create a variable \"x\".\n",
    "x = 5\n",
    "x + 1\n",
    "# Changing the x variable.\n",
    "\n",
    "x = x + 1 # or if you want more pratical way: x += 1\n",
    "x\n",
    "# Now, our x value is 6!"
   ]
  },
  {
   "cell_type": "code",
   "execution_count": 11,
   "id": "22c62792-b9ba-4102-bfe8-f490d26cc3b4",
   "metadata": {
    "tags": []
   },
   "outputs": [
    {
     "name": "stdout",
     "output_type": "stream",
     "text": [
      "27.5\n"
     ]
    }
   ],
   "source": [
    "# Besides, we can do some computions with variables.\n",
    "# For example, suppose that we have some animals with an average age.\n",
    "\n",
    "average_cat_age = 15\n",
    "average_dog_age = 12\n",
    "average_elephant_age = 55.5\n",
    "\n",
    "average_sample_animals_age = (average_cat_age + average_dog_age + average_elephant_age) / 3\n",
    "\n",
    "println(average_sample_animals_age)"
   ]
  },
  {
   "cell_type": "markdown",
   "id": "22b2d238-4f4e-4e92-9aeb-3d3eddcc72a7",
   "metadata": {
    "tags": []
   },
   "source": [
    "### Integer, Float and Numeric data types"
   ]
  },
  {
   "cell_type": "code",
   "execution_count": 5,
   "id": "ec9e03d0-0b3f-4c78-b398-ee08aa821b4e",
   "metadata": {},
   "outputs": [
    {
     "name": "stdout",
     "output_type": "stream",
     "text": [
      "Int64\n",
      "Float64\n",
      "String\n",
      "Bool\n"
     ]
    }
   ],
   "source": [
    "# Create some variables that are a, b and c.\n",
    "a = 5\n",
    "b = 3.2\n",
    "c = \"Julia Programming\"\n",
    "d = true\n",
    "\n",
    "# Let's look at these variables type.\n",
    "\n",
    "println(typeof(a))\n",
    "println(typeof(b))\n",
    "println(typeof(c))\n",
    "println(typeof(d))"
   ]
  },
  {
   "cell_type": "code",
   "execution_count": 2,
   "id": "86081072-0098-4d18-9447-a67762469cbc",
   "metadata": {},
   "outputs": [
    {
     "name": "stdout",
     "output_type": "stream",
     "text": [
      "Int64\n",
      "3\n"
     ]
    }
   ],
   "source": [
    "# In addition, we can convert data types to their each other!\n",
    "# First, if we want to convert float to integer:\n",
    "i_am_a_float = 3.0\n",
    "\n",
    "# Convert i_am_a_float to be an integer and print its new type!\n",
    "i_am_an_int = Int64(i_am_a_float)\n",
    "\n",
    "println(typeof(i_am_an_int))\n",
    "println(i_am_an_int)"
   ]
  },
  {
   "cell_type": "code",
   "execution_count": 8,
   "id": "361716ca-ccef-48be-bb9b-701847af8a65",
   "metadata": {},
   "outputs": [
    {
     "name": "stdout",
     "output_type": "stream",
     "text": [
      "i_am_a_float is a Float64 and it's value equal to 3.0\n"
     ]
    }
   ],
   "source": [
    "# If we want to convert integer to float:\n",
    "i_am_an_int = 3\n",
    "\n",
    "# Convert integer value into a float type!\n",
    "i_am_a_float = Float64(i_am_an_int)\n",
    "\n",
    "println(\"i_am_a_float is a \", typeof(i_am_a_float), \" and it's value equal to \", (i_am_a_float))"
   ]
  },
  {
   "cell_type": "code",
   "execution_count": 15,
   "id": "9805216b-2dda-474b-8463-4d1de55a85a1",
   "metadata": {},
   "outputs": [
    {
     "name": "stdout",
     "output_type": "stream",
     "text": [
      "float_value is a Float64 and it's value equal to 3.1415\n"
     ]
    }
   ],
   "source": [
    "# If we want to convert string to float:\n",
    "string_variable = \"3.1415\"\n",
    "\n",
    "# Convert string_variable into a float with a parse() function\n",
    "# parse() method is used to convert the string into integer or float datatype. \n",
    "float_value = parse(Float64, string_variable)\n",
    "\n",
    "println(\"float_value is a \", typeof(float_value), \" and it's value equal to \", (float_value))"
   ]
  },
  {
   "cell_type": "code",
   "execution_count": 17,
   "id": "7de9cc05-2451-4b57-bbdb-25c42ead7246",
   "metadata": {},
   "outputs": [
    {
     "name": "stdout",
     "output_type": "stream",
     "text": [
      "string_variable is a String\n"
     ]
    }
   ],
   "source": [
    "# Otherwise, we want to convert integer to string:\n",
    "integer_value = 10\n",
    "\n",
    "# Convert integer_value into a string\n",
    "string_variable = string(integer_value)\n",
    "\n",
    "println(\"string_variable is a \", typeof(string_variable))"
   ]
  },
  {
   "cell_type": "markdown",
   "id": "0e0c88c6-df39-4555-ba80-cf9811b63ffd",
   "metadata": {},
   "source": [
    "### Strings' Features in Julia"
   ]
  },
  {
   "cell_type": "markdown",
   "id": "f548bcc7-eddf-41ef-82b6-be0a0faf94e1",
   "metadata": {},
   "source": [
    "\n",
    "<p>In Julia, we have different data types but, <b>strings</b> have some special cases!</p>"
   ]
  },
  {
   "cell_type": "code",
   "execution_count": 12,
   "id": "8d8b7fb1-8b68-406e-b8ae-4659e5b5bfaf",
   "metadata": {},
   "outputs": [
    {
     "name": "stdout",
     "output_type": "stream",
     "text": [
      "The 1st is Şahan!\n",
      "Cengiz and John are 2nd and 3rd place!\n"
     ]
    }
   ],
   "source": [
    "# Let's look the index in ranks\n",
    "ranks = \"54321\"\n",
    "first = ranks[end]\n",
    "\n",
    "# Print the first rank\n",
    "println(\"The $(first)st is Şahan!\")\n",
    "\n",
    "# Print the second and third place in the competetion\n",
    "println(\"Cengiz and John are $(ranks[end-1])nd and $(ranks[end-2])rd place!\")"
   ]
  },
  {
   "cell_type": "code",
   "execution_count": 4,
   "id": "4ccd70c1-7cd5-4631-8818-883767330893",
   "metadata": {},
   "outputs": [
    {
     "name": "stdout",
     "output_type": "stream",
     "text": [
      "Julia Programming!\n",
      "Hello, my name is Julia \n"
     ]
    }
   ],
   "source": [
    "# slicing feature in strings\n",
    "greetings = \"Welcome to Julia Programming!\"\n",
    "\n",
    "# slice out the just Julia Programming!\n",
    "programmingLanguage = greetings[12:end]\n",
    "println(programmingLanguage)\n",
    "\n",
    "# slice out the just Julia\n",
    "name = greetings[12:17]\n",
    "println(\"Hello, my name is $name\")"
   ]
  }
 ],
 "metadata": {
  "kernelspec": {
   "display_name": "Julia 1.8.3",
   "language": "julia",
   "name": "julia-1.8"
  },
  "language_info": {
   "file_extension": ".jl",
   "mimetype": "application/julia",
   "name": "julia",
   "version": "1.8.3"
  }
 },
 "nbformat": 4,
 "nbformat_minor": 5
}
